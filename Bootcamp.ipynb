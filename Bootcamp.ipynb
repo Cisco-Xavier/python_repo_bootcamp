{
  "nbformat": 4,
  "nbformat_minor": 0,
  "metadata": {
    "colab": {
      "name": "Bootcamp.ipynb",
      "provenance": [],
      "authorship_tag": "ABX9TyPjPDYl3yaEH3I3rDiJG3ZP",
      "include_colab_link": true
    },
    "kernelspec": {
      "name": "python3",
      "display_name": "Python 3"
    },
    "language_info": {
      "name": "python"
    }
  },
  "cells": [
    {
      "cell_type": "markdown",
      "metadata": {
        "id": "view-in-github",
        "colab_type": "text"
      },
      "source": [
        "<a href=\"https://colab.research.google.com/github/Cisco-Xavier/python_repo_bootcamp/blob/main/Bootcamp.ipynb\" target=\"_parent\"><img src=\"https://colab.research.google.com/assets/colab-badge.svg\" alt=\"Open In Colab\"/></a>"
      ]
    },
    {
      "cell_type": "code",
      "metadata": {
        "colab": {
          "base_uri": "https://localhost:8080/"
        },
        "id": "0unQ9MscbbaB",
        "outputId": "b866f313-223c-41fb-aa1b-842ebea181b8"
      },
      "source": [
        "import requests\n",
        "\n",
        "response = requests.get('https://www.google.com')\n",
        "\n",
        "print(requests)\n",
        "\n"
      ],
      "execution_count": null,
      "outputs": [
        {
          "output_type": "stream",
          "text": [
            "<module 'requests' from '/usr/local/lib/python3.7/dist-packages/requests/__init__.py'>\n"
          ],
          "name": "stdout"
        }
      ]
    },
    {
      "cell_type": "code",
      "metadata": {
        "colab": {
          "base_uri": "https://localhost:8080/"
        },
        "id": "qXinprbr41JV",
        "outputId": "4c7672a4-bf29-428a-e349-4039354ca8b7"
      },
      "source": [
        "import random\n",
        "\n",
        "noomer = random.randint(0,10)\n",
        "print(\"Guess a number\")\n",
        "x = int(input())\n",
        "#syntax what\n",
        "if x == noomer: \n",
        "  print(\"You guessed right\")\n",
        "elif x < noomer:\n",
        "    print(\"Too low\")\n",
        "elif x > noomer:\n",
        "    print(\"Too high\")\n"
      ],
      "execution_count": null,
      "outputs": [
        {
          "output_type": "stream",
          "text": [
            "Guess a number\n",
            "5\n",
            "You guessed right\n"
          ],
          "name": "stdout"
        }
      ]
    }
  ]
}